{
 "cells": [
  {
   "cell_type": "markdown",
   "metadata": {},
   "source": [
    "# <br> Autoencoder-based anomaly detection"
   ]
  },
  {
   "cell_type": "code",
   "execution_count": 2,
   "metadata": {},
   "outputs": [],
   "source": [
    "import warnings\n",
    "warnings.filterwarnings('ignore')"
   ]
  },
  {
   "cell_type": "markdown",
   "metadata": {},
   "source": [
    "#### <br> Load data (realized transitions)"
   ]
  },
  {
   "cell_type": "code",
   "execution_count": 3,
   "metadata": {},
   "outputs": [
    {
     "name": "stdout",
     "output_type": "stream",
     "text": [
      "(2093, 55) (524, 55)\n"
     ]
    }
   ],
   "source": [
    "import pandas as pd\n",
    "from sklearn.model_selection import train_test_split\n",
    "from sklearn.preprocessing import MinMaxScaler\n",
    "data = pd.read_csv('transitions.csv', header=None)\n",
    "X_train, X_test = train_test_split(data.values, test_size=0.2, random_state=42)\n",
    "scaler = MinMaxScaler()\n",
    "X_train = scaler.fit_transform(X_train)\n",
    "X_test = scaler.transform(X_test)\n",
    "print(X_train.shape, X_test.shape)\n",
    "n_inputs, n_outputs, n_hidden = (X_train.shape[1] for i in range(3))"
   ]
  },
  {
   "cell_type": "code",
   "execution_count": 4,
   "metadata": {},
   "outputs": [],
   "source": [
    "import tensorflow as tf\n",
    "def reset_graph(seed=42):\n",
    "    tf.reset_default_graph()\n",
    "    tf.set_random_seed(seed)"
   ]
  },
  {
   "cell_type": "markdown",
   "metadata": {},
   "source": [
    "#### <br> Building dataflow graph"
   ]
  },
  {
   "cell_type": "code",
   "execution_count": 7,
   "metadata": {},
   "outputs": [],
   "source": [
    "learning_rate=0.01\n",
    "reset_graph()\n",
    "X = tf.placeholder(tf.float32, shape=[None, n_inputs])\n",
    "hidden = tf.layers.dense(X, n_hidden, activation=tf.sigmoid)\n",
    "outputs = tf.layers.dense(hidden, n_outputs, activation=tf.sigmoid)\n",
    "reconstruction_loss = tf.reduce_mean(tf.square(outputs - X))\n",
    "errors = tf.reduce_mean(tf.square(outputs - X), axis=1)\n",
    "optimizer = tf.train.AdamOptimizer(learning_rate)\n",
    "training_op = optimizer.minimize(reconstruction_loss)\n",
    "init = tf.global_variables_initializer()\n",
    "saver = tf.train.Saver()"
   ]
  },
  {
   "cell_type": "markdown",
   "metadata": {},
   "source": [
    "#### <br> Training the model"
   ]
  },
  {
   "cell_type": "code",
   "execution_count": 8,
   "metadata": {},
   "outputs": [
    {
     "name": "stderr",
     "output_type": "stream",
     "text": [
      "100%|██████████| 10000/10000 [00:49<00:00, 201.01it/s]\n"
     ]
    }
   ],
   "source": [
    "from tqdm import trange\n",
    "plot_x, plot_y, plot_y2 = ([] for i in range(3))\n",
    "n_iterations = 10000\n",
    "with tf.Session() as sess:\n",
    "    init.run()\n",
    "    for iteration in trange(n_iterations):\n",
    "        _,c = sess.run([training_op,reconstruction_loss], feed_dict={X: X_train})\n",
    "        c2 = sess.run([reconstruction_loss], feed_dict={X: X_test})\n",
    "        plot_x.append(iteration)\n",
    "        plot_y.append(c)\n",
    "        plot_y2.append(c2)\n",
    "            \n",
    "    saver.save(sess, \"anomaly_model.ckpt\")"
   ]
  },
  {
   "cell_type": "markdown",
   "metadata": {},
   "source": [
    "#### <br> Plot training and test loss"
   ]
  },
  {
   "cell_type": "code",
   "execution_count": 9,
   "metadata": {},
   "outputs": [
    {
     "data": {
      "image/png": "[encoded data removed]",
      "text/plain": [
       "<matplotlib.figure.Figure at 0x1118a8668>"
      ]
     },
     "metadata": {},
     "output_type": "display_data"
    }
   ],
   "source": [
    "%matplotlib inline\n",
    "from matplotlib import pyplot as plt\n",
    "plt.plot(plot_x, plot_y, 'b', plot_x, plot_y2, 'r')\n",
    "plt.title('Model reconstruction loss')\n",
    "plt.grid()\n",
    "plt.xlabel('Epoch')\n",
    "plt.ylabel('Loss')\n",
    "plt.legend(['Train', 'Test'])\n",
    "#plt.style.use(['dark_background'])\n",
    "plt.show()"
   ]
  },
  {
   "cell_type": "code",
   "execution_count": 10,
   "metadata": {},
   "outputs": [
    {
     "name": "stdout",
     "output_type": "stream",
     "text": [
      "INFO:tensorflow:Restoring parameters from anomaly_model.ckpt\n",
      "Train errors:  7.21495e-06 0.000921529 7.22132e-05 8.88566e-05\n",
      "Test errors:  7.17074e-06 0.00124758 8.82292e-05 0.000127633\n",
      "% of test errors below train max:  99.23664122137404\n"
     ]
    }
   ],
   "source": [
    "import numpy as np\n",
    "with tf.Session() as sess:\n",
    "    saver.restore(sess, 'anomaly_model.ckpt')\n",
    "    _, train_errors = sess.run([reconstruction_loss, errors], feed_dict={X: X_train})\n",
    "    print(\"Train errors: \", np.min(train_errors), np.max(train_errors), np.mean(train_errors), np.std(train_errors))\n",
    "    _, test_errors = sess.run([reconstruction_loss, errors], feed_dict={X: X_test})\n",
    "    print(\"Test errors: \", np.min(test_errors), np.max(test_errors), np.mean(test_errors), np.std(test_errors))\n",
    "    above_test_errors = test_errors[test_errors < np.max(train_errors)]\n",
    "    print(\"% of test errors below train max: \", 100 * len(above_test_errors)/len(test_errors))"
   ]
  }
 ],
 "metadata": {
  "kernelspec": {
   "display_name": "Python [default]",
   "language": "python",
   "name": "python3"
  },
  "language_info": {
   "codemirror_mode": {
    "name": "ipython",
    "version": 3
   },
   "file_extension": ".py",
   "mimetype": "text/x-python",
   "name": "python",
   "nbconvert_exporter": "python",
   "pygments_lexer": "ipython3",
   "version": "3.6.5"
  }
 },
 "nbformat": 4,
 "nbformat_minor": 2
}
